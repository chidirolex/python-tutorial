{
 "cells": [
  {
   "cell_type": "markdown",
   "id": "aa2c7bea",
   "metadata": {},
   "source": [
    "# Conditional Statements"
   ]
  },
  {
   "cell_type": "markdown",
   "id": "6cfc9457",
   "metadata": {},
   "source": [
    "## If ... Else"
   ]
  },
  {
   "cell_type": "code",
   "execution_count": 8,
   "id": "39cb93ea",
   "metadata": {},
   "outputs": [
    {
     "name": "stdout",
     "output_type": "stream",
     "text": [
      "Nigeria Why are you killing our moral\n"
     ]
    }
   ],
   "source": [
    "a = 20\n",
    "b = 30\n",
    "\n",
    "if a > b:\n",
    "    print(\"a is greater than b\")\n",
    "elif a < b:\n",
    "    print(\"Nigeria Why are you killing our moral\")"
   ]
  },
  {
   "cell_type": "markdown",
   "id": "924f5307",
   "metadata": {},
   "source": [
    "# Elif"
   ]
  },
  {
   "cell_type": "code",
   "execution_count": 9,
   "id": "cef7d945",
   "metadata": {},
   "outputs": [
    {
     "name": "stdout",
     "output_type": "stream",
     "text": [
      "We done suffer no be small\n"
     ]
    }
   ],
   "source": [
    "c = 20\n",
    "d = 20\n",
    "\n",
    "if c > d: print(\"Nigria Abeg Na\")\n",
    "elif c == d: print(\"We done suffer no be small\")"
   ]
  },
  {
   "cell_type": "code",
   "execution_count": 10,
   "id": "f3d25fad",
   "metadata": {},
   "outputs": [
    {
     "name": "stdout",
     "output_type": "stream",
     "text": [
      "I'm Full\n"
     ]
    }
   ],
   "source": [
    "print(\"Im hungry\") if a > b else print(\"I'm Full\")"
   ]
  },
  {
   "cell_type": "code",
   "execution_count": 15,
   "id": "18d81ad2",
   "metadata": {},
   "outputs": [
    {
     "name": "stdout",
     "output_type": "stream",
     "text": [
      "im hungry\n"
     ]
    }
   ],
   "source": [
    "if a > b:\n",
    "    print(\"I'm Full\")\n",
    "if a == b:\n",
    "    print(\"food done done\")\n",
    "else:\n",
    "    print(\"im hungry\")"
   ]
  },
  {
   "cell_type": "code",
   "execution_count": 29,
   "id": "ca53aa9f",
   "metadata": {},
   "outputs": [],
   "source": [
    "a = 20\n",
    "b = 30\n",
    "c = 20\n",
    "\n",
    "if a > b and a == c:\n",
    "    pass"
   ]
  },
  {
   "cell_type": "markdown",
   "id": "775ad14d",
   "metadata": {},
   "source": [
    "# Nested If"
   ]
  },
  {
   "cell_type": "code",
   "execution_count": 25,
   "id": "c629159a",
   "metadata": {},
   "outputs": [
    {
     "name": "stdout",
     "output_type": "stream",
     "text": [
      "100\n"
     ]
    }
   ],
   "source": [
    "x = 100\n",
    "\n",
    "if x < 50:\n",
    "    print(\"Above 50\")\n",
    "    if x > 80:\n",
    "        print(\"Above 80\")\n",
    "else:\n",
    "    print(\"100\")"
   ]
  },
  {
   "cell_type": "markdown",
   "id": "c2950c47",
   "metadata": {},
   "source": [
    "# Loops"
   ]
  },
  {
   "cell_type": "markdown",
   "id": "6a6b58b3",
   "metadata": {},
   "source": [
    "## While Loop"
   ]
  },
  {
   "cell_type": "code",
   "execution_count": 33,
   "id": "6353a617",
   "metadata": {},
   "outputs": [
    {
     "name": "stdout",
     "output_type": "stream",
     "text": [
      "1\n",
      "2\n",
      "3\n",
      "4\n",
      "5\n",
      "6\n",
      "7\n",
      "8\n",
      "9\n",
      "10\n"
     ]
    }
   ],
   "source": [
    "x = 1\n",
    "while x <= 10:\n",
    "    print(x)\n",
    "    x += 1"
   ]
  },
  {
   "cell_type": "code",
   "execution_count": null,
   "id": "eec0c095",
   "metadata": {},
   "outputs": [],
   "source": []
  }
 ],
 "metadata": {
  "kernelspec": {
   "display_name": "Python 3",
   "language": "python",
   "name": "python3"
  },
  "language_info": {
   "codemirror_mode": {
    "name": "ipython",
    "version": 3
   },
   "file_extension": ".py",
   "mimetype": "text/x-python",
   "name": "python",
   "nbconvert_exporter": "python",
   "pygments_lexer": "ipython3",
   "version": "3.8.8"
  }
 },
 "nbformat": 4,
 "nbformat_minor": 5
}
