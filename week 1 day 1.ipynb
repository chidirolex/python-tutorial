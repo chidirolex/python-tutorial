{
 "cells": [
  {
   "cell_type": "markdown",
   "id": "ce4e0123",
   "metadata": {},
   "source": [
    "# Strings"
   ]
  },
  {
   "cell_type": "code",
   "execution_count": 4,
   "id": "1ce50717",
   "metadata": {},
   "outputs": [
    {
     "name": "stdout",
     "output_type": "stream",
     "text": [
      " HELLO, WORLD \n"
     ]
    }
   ],
   "source": [
    "a = \" Hello, World \"\n",
    "print(a.upper())"
   ]
  },
  {
   "cell_type": "code",
   "execution_count": 2,
   "id": "3b3685c3",
   "metadata": {},
   "outputs": [
    {
     "name": "stdout",
     "output_type": "stream",
     "text": [
      "hello, world\n"
     ]
    }
   ],
   "source": [
    "b = \"HELLO, WORLD\"\n",
    "print(b.lower())"
   ]
  },
  {
   "cell_type": "code",
   "execution_count": 5,
   "id": "1e01d5be",
   "metadata": {},
   "outputs": [
    {
     "name": "stdout",
     "output_type": "stream",
     "text": [
      "Hello, World\n"
     ]
    }
   ],
   "source": [
    "print(a.strip())"
   ]
  },
  {
   "cell_type": "code",
   "execution_count": 6,
   "id": "46eb2dc8",
   "metadata": {},
   "outputs": [
    {
     "name": "stdout",
     "output_type": "stream",
     "text": [
      " Fello, World \n"
     ]
    }
   ],
   "source": [
    "print(a.replace(\"H\", \"F\"))"
   ]
  },
  {
   "cell_type": "code",
   "execution_count": 7,
   "id": "391039de",
   "metadata": {},
   "outputs": [
    {
     "name": "stdout",
     "output_type": "stream",
     "text": [
      "[' Hello', ' World ']\n"
     ]
    }
   ],
   "source": [
    "print(a.split(\",\"))"
   ]
  },
  {
   "cell_type": "code",
   "execution_count": 12,
   "id": "d1cfa235",
   "metadata": {},
   "outputs": [],
   "source": [
    "c = \"Hello\"\n",
    "d = \"world\"\n",
    "\n",
    "e = c +\" \"+ d +\" \""
   ]
  },
  {
   "cell_type": "code",
   "execution_count": 13,
   "id": "cb867cc6",
   "metadata": {},
   "outputs": [
    {
     "data": {
      "text/plain": [
       "'Hello world '"
      ]
     },
     "execution_count": 13,
     "metadata": {},
     "output_type": "execute_result"
    }
   ],
   "source": [
    "e"
   ]
  },
  {
   "cell_type": "code",
   "execution_count": 19,
   "id": "1998b3a3",
   "metadata": {},
   "outputs": [
    {
     "name": "stdout",
     "output_type": "stream",
     "text": [
      "the best students in our class are : Nengi, Joy, and Gospel \n"
     ]
    }
   ],
   "source": [
    "a = \"Gospel\"\n",
    "b = \"Nengi\"\n",
    "c = \"Joy\"\n",
    "Stam = \"the best students in our class are : {1}, {2}, and {0} \"\n",
    "print(Stam.format(a, b, c))"
   ]
  },
  {
   "cell_type": "code",
   "execution_count": 21,
   "id": "770a6928",
   "metadata": {},
   "outputs": [
    {
     "name": "stdout",
     "output_type": "stream",
     "text": [
      "b is not greater than a: False\n"
     ]
    }
   ],
   "source": [
    "a = 3003\n",
    "b = 1001\n",
    "\n",
    "if b = a:\n",
    "    print(\"b is greater than a: True\")\n",
    "else:\n",
    "    print(\"b is not greater than a: False\")"
   ]
  },
  {
   "cell_type": "code",
   "execution_count": 22,
   "id": "14aa7a4d",
   "metadata": {},
   "outputs": [
    {
     "name": "stdout",
     "output_type": "stream",
     "text": [
      "True\n"
     ]
    }
   ],
   "source": [
    "print(bool(c))"
   ]
  },
  {
   "cell_type": "code",
   "execution_count": 25,
   "id": "7e3a7118",
   "metadata": {},
   "outputs": [
    {
     "name": "stdout",
     "output_type": "stream",
     "text": [
      "True\n"
     ]
    }
   ],
   "source": [
    "print(bool(a))"
   ]
  },
  {
   "cell_type": "code",
   "execution_count": 30,
   "id": "b74d8567",
   "metadata": {},
   "outputs": [],
   "source": [
    "a = 3\n",
    "b = 7\n",
    "\n",
    "b *= a"
   ]
  },
  {
   "cell_type": "code",
   "execution_count": 31,
   "id": "233229dc",
   "metadata": {},
   "outputs": [
    {
     "data": {
      "text/plain": [
       "21"
      ]
     },
     "execution_count": 31,
     "metadata": {},
     "output_type": "execute_result"
    }
   ],
   "source": [
    "b"
   ]
  },
  {
   "cell_type": "code",
   "execution_count": 32,
   "id": "23953921",
   "metadata": {},
   "outputs": [],
   "source": [
    "b &= a"
   ]
  },
  {
   "cell_type": "code",
   "execution_count": 33,
   "id": "12053357",
   "metadata": {},
   "outputs": [
    {
     "data": {
      "text/plain": [
       "1"
      ]
     },
     "execution_count": 33,
     "metadata": {},
     "output_type": "execute_result"
    }
   ],
   "source": [
    "b"
   ]
  },
  {
   "cell_type": "code",
   "execution_count": 34,
   "id": "19b9c48f",
   "metadata": {},
   "outputs": [
    {
     "name": "stdout",
     "output_type": "stream",
     "text": [
      "1\n"
     ]
    }
   ],
   "source": [
    "x = 5\n",
    "\n",
    "x &= 3\n",
    "\n",
    "print(x)"
   ]
  },
  {
   "cell_type": "code",
   "execution_count": 36,
   "id": "ae32dc12",
   "metadata": {},
   "outputs": [],
   "source": [
    "a |= b"
   ]
  },
  {
   "cell_type": "code",
   "execution_count": 37,
   "id": "0c37daf5",
   "metadata": {},
   "outputs": [
    {
     "data": {
      "text/plain": [
       "3"
      ]
     },
     "execution_count": 37,
     "metadata": {},
     "output_type": "execute_result"
    }
   ],
   "source": [
    "a"
   ]
  },
  {
   "cell_type": "code",
   "execution_count": 50,
   "id": "a27257ff",
   "metadata": {},
   "outputs": [
    {
     "name": "stdout",
     "output_type": "stream",
     "text": [
      "['Mike', 'Faji', 'Gram', 'Solo Solo']\n"
     ]
    }
   ],
   "source": [
    "student = [\"Mike\", \"Faji\", \"Gram\", \"Solo Solo\", \"Chidi\", \"Princewill\"]\n",
    "\n",
    "print(student[:-2])"
   ]
  },
  {
   "cell_type": "code",
   "execution_count": 51,
   "id": "f4279742",
   "metadata": {},
   "outputs": [
    {
     "name": "stdout",
     "output_type": "stream",
     "text": [
      "Yes 'Gram' is a Yeye Student\n"
     ]
    }
   ],
   "source": [
    "if \"Gram\" in student:\n",
    "    print(\"Yes 'Gram' is a Yeye Student\")"
   ]
  },
  {
   "cell_type": "code",
   "execution_count": 52,
   "id": "84ec9978",
   "metadata": {},
   "outputs": [],
   "source": [
    "student[2] = \"Graham\""
   ]
  },
  {
   "cell_type": "code",
   "execution_count": 53,
   "id": "17bd4aa3",
   "metadata": {},
   "outputs": [
    {
     "data": {
      "text/plain": [
       "['Mike', 'Faji', 'Graham', 'Solo Solo', 'Chidi', 'Princewill']"
      ]
     },
     "execution_count": 53,
     "metadata": {},
     "output_type": "execute_result"
    }
   ],
   "source": [
    "student"
   ]
  },
  {
   "cell_type": "code",
   "execution_count": 54,
   "id": "96359669",
   "metadata": {},
   "outputs": [],
   "source": [
    "student[:2] = [\"Nengi\", \"Favour\"]"
   ]
  },
  {
   "cell_type": "code",
   "execution_count": 55,
   "id": "5591d4a4",
   "metadata": {},
   "outputs": [
    {
     "data": {
      "text/plain": [
       "['Nengi', 'Favour', 'Graham', 'Solo Solo', 'Chidi', 'Princewill']"
      ]
     },
     "execution_count": 55,
     "metadata": {},
     "output_type": "execute_result"
    }
   ],
   "source": [
    "student"
   ]
  },
  {
   "cell_type": "code",
   "execution_count": 61,
   "id": "68aeeccf",
   "metadata": {},
   "outputs": [],
   "source": [
    "student.insert(2, \"Joy\")"
   ]
  },
  {
   "cell_type": "code",
   "execution_count": 68,
   "id": "0f3a7f7d",
   "metadata": {},
   "outputs": [
    {
     "data": {
      "text/plain": [
       "['Nengi',\n",
       " 'Favour',\n",
       " 'Joy',\n",
       " 'Graham',\n",
       " 'Solo Solo',\n",
       " 'Chidi',\n",
       " 'Princewill',\n",
       " 'Gospel',\n",
       " 'Faji',\n",
       " 'Ifeanyi',\n",
       " 'Gram',\n",
       " 'Faji']"
      ]
     },
     "execution_count": 68,
     "metadata": {},
     "output_type": "execute_result"
    }
   ],
   "source": [
    "student"
   ]
  },
  {
   "cell_type": "code",
   "execution_count": 63,
   "id": "e6ffc1fe",
   "metadata": {},
   "outputs": [],
   "source": [
    "student.append(\"Gospel\")"
   ]
  },
  {
   "cell_type": "code",
   "execution_count": 65,
   "id": "aeb8bf08",
   "metadata": {},
   "outputs": [],
   "source": [
    "male = [\"Faji\", \"Ifeanyi\"]\n",
    "student.extend(male)"
   ]
  },
  {
   "cell_type": "code",
   "execution_count": 67,
   "id": "13e807f7",
   "metadata": {},
   "outputs": [],
   "source": [
    "female = (\"Gram\", \"Faji\")\n",
    "student.extend(female)"
   ]
  },
  {
   "cell_type": "code",
   "execution_count": 71,
   "id": "593635bf",
   "metadata": {},
   "outputs": [],
   "source": [
    "student.remove(\"Faji\")"
   ]
  },
  {
   "cell_type": "code",
   "execution_count": 76,
   "id": "64d63ebe",
   "metadata": {},
   "outputs": [
    {
     "name": "stdout",
     "output_type": "stream",
     "text": [
      "['Nengi', 'Favour', 'Joy', 'Graham', 'Solo Solo', 'Chidi', 'Princewill', 'Gospel']\n"
     ]
    }
   ],
   "source": [
    "print(student)"
   ]
  },
  {
   "cell_type": "code",
   "execution_count": 75,
   "id": "3143fd54",
   "metadata": {},
   "outputs": [
    {
     "data": {
      "text/plain": [
       "'Ifeanyi'"
      ]
     },
     "execution_count": 75,
     "metadata": {},
     "output_type": "execute_result"
    }
   ],
   "source": [
    "student.pop()"
   ]
  },
  {
   "cell_type": "code",
   "execution_count": 82,
   "id": "c62084c4",
   "metadata": {},
   "outputs": [],
   "source": [
    "female =[\"faji\", \"gram\"]"
   ]
  },
  {
   "cell_type": "code",
   "execution_count": 83,
   "id": "064c3dd7",
   "metadata": {},
   "outputs": [],
   "source": [
    "female.clear()"
   ]
  },
  {
   "cell_type": "code",
   "execution_count": 84,
   "id": "6564eba9",
   "metadata": {},
   "outputs": [
    {
     "data": {
      "text/plain": [
       "[]"
      ]
     },
     "execution_count": 84,
     "metadata": {},
     "output_type": "execute_result"
    }
   ],
   "source": [
    "female"
   ]
  },
  {
   "cell_type": "code",
   "execution_count": 85,
   "id": "128af2c3",
   "metadata": {},
   "outputs": [
    {
     "name": "stdout",
     "output_type": "stream",
     "text": [
      "Nengi\n",
      "Favour\n",
      "Joy\n",
      "Graham\n",
      "Solo Solo\n",
      "Chidi\n",
      "Princewill\n",
      "Gospel\n"
     ]
    }
   ],
   "source": [
    "for x in student:\n",
    "    print(x)"
   ]
  },
  {
   "cell_type": "code",
   "execution_count": 91,
   "id": "e10310fa",
   "metadata": {},
   "outputs": [
    {
     "name": "stdout",
     "output_type": "stream",
     "text": [
      "Chidi\n",
      "Chidi\n",
      "Chidi\n",
      "Chidi\n",
      "Chidi\n",
      "Chidi\n",
      "Chidi\n",
      "Chidi\n"
     ]
    }
   ],
   "source": [
    "for i in range(len(student)):\n",
    "    print(student[5])"
   ]
  },
  {
   "cell_type": "code",
   "execution_count": 92,
   "id": "a742fa57",
   "metadata": {},
   "outputs": [
    {
     "name": "stdout",
     "output_type": "stream",
     "text": [
      "Nengi\n",
      "Favour\n",
      "Joy\n",
      "Graham\n",
      "Solo Solo\n",
      "Chidi\n",
      "Princewill\n",
      "Gospel\n"
     ]
    },
    {
     "data": {
      "text/plain": [
       "[None, None, None, None, None, None, None, None]"
      ]
     },
     "execution_count": 92,
     "metadata": {},
     "output_type": "execute_result"
    }
   ],
   "source": [
    "[print(x) for x in student]"
   ]
  },
  {
   "cell_type": "code",
   "execution_count": null,
   "id": "b2ac23ba",
   "metadata": {},
   "outputs": [],
   "source": []
  }
 ],
 "metadata": {
  "kernelspec": {
   "display_name": "Python 3",
   "language": "python",
   "name": "python3"
  },
  "language_info": {
   "codemirror_mode": {
    "name": "ipython",
    "version": 3
   },
   "file_extension": ".py",
   "mimetype": "text/x-python",
   "name": "python",
   "nbconvert_exporter": "python",
   "pygments_lexer": "ipython3",
   "version": "3.8.8"
  }
 },
 "nbformat": 4,
 "nbformat_minor": 5
}
